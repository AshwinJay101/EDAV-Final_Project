{
 "cells": [
  {
   "cell_type": "code",
   "execution_count": 5,
   "metadata": {},
   "outputs": [],
   "source": [
    "def parseicd(icdtxt):\n",
    "    filename = icdtxt[:icdtxt.find(\".\")]\n",
    "    icd = open(icdtxt)\n",
    "\n",
    "    icdcat = \"\"\n",
    "    icdcatcsv = str(filename) + \"_cat.csv\"\n",
    "    icdcodes = \"\"\n",
    "    icdcodescsv = str(filename) + \".csv\"\n",
    "    for lines in icd.readlines():\n",
    "        lines = lines.replace(',','')\n",
    "        if lines[0] == '(':\n",
    "            lines = lines.replace('(','',1)\n",
    "            lines = lines.replace(')','',1)\n",
    "            lines = lines.replace('-',',',1)\n",
    "            space = lines.find(\" \")\n",
    "            icdcat += str(\"\".join(lines[:space+1])) + \",\" + str(\"\".join(lines[space+1:]))\n",
    "\n",
    "        else:\n",
    "            space = lines.find(\" \")\n",
    "            icdcodes += str(\"\".join(lines[:space+1])) + \",\" + str(\"\".join(lines[space+1:]))\n",
    "\n",
    "        with open(icdcodescsv,'w') as file:\n",
    "            for line in icdcodes:\n",
    "                file.write(line)\n",
    "\n",
    "        with open(icdcatcsv,'w') as file:\n",
    "            for line in icdcat:\n",
    "                file.write(line)\n",
    "\n",
    "        icd.close()"
   ]
  },
  {
   "cell_type": "code",
   "execution_count": 7,
   "metadata": {},
   "outputs": [],
   "source": [
    "parseicd(\"icd8.txt\")"
   ]
  },
  {
   "cell_type": "code",
   "execution_count": 11,
   "metadata": {},
   "outputs": [],
   "source": [
    "parseicd(\"icd9.txt\")"
   ]
  },
  {
   "cell_type": "code",
   "execution_count": 12,
   "metadata": {},
   "outputs": [],
   "source": [
    "parseicd(\"icd10.txt\")"
   ]
  },
  {
   "cell_type": "code",
   "execution_count": null,
   "metadata": {},
   "outputs": [],
   "source": [
    "parseicd(\"icd7.txt\")"
   ]
  },
  {
   "cell_type": "code",
   "execution_count": null,
   "metadata": {},
   "outputs": [],
   "source": []
  }
 ],
 "metadata": {
  "kernelspec": {
   "display_name": "Python 3",
   "language": "python",
   "name": "python3"
  },
  "language_info": {
   "codemirror_mode": {
    "name": "ipython",
    "version": 3
   },
   "file_extension": ".py",
   "mimetype": "text/x-python",
   "name": "python",
   "nbconvert_exporter": "python",
   "pygments_lexer": "ipython3",
   "version": "3.6.7"
  }
 },
 "nbformat": 4,
 "nbformat_minor": 2
}
