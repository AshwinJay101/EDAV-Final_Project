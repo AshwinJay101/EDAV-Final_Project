{
 "cells": [
  {
   "cell_type": "code",
   "execution_count": 58,
   "metadata": {},
   "outputs": [],
   "source": [
    "def parseicd(icdtxt):\n",
    "    filename = icdtxt[:icdtxt.find(\".\")]\n",
    "    icd = open(icdtxt)\n",
    "\n",
    "    icdcat = \"\"\n",
    "    icdcatcsv = str(filename) + \"_cat.csv\"\n",
    "    icdcodes = \"\"\n",
    "    icdcodescsv = str(filename) + \".csv\"\n",
    "    for lines in icd.readlines():\n",
    "        lines = lines.replace(',','')\n",
    "        if lines[0] == '(':\n",
    "            lines = lines.replace('(','',1)\n",
    "            lines = lines.replace(')','',1)\n",
    "            lines = lines.replace('-',',',1)\n",
    "            space = lines.find(\" \")\n",
    "            icdcat += str(\"\".join(lines[:space+1])) + \",\" + str(\"\".join(lines[space+1:]))\n",
    "\n",
    "        else:\n",
    "            space = lines.find(\" \")\n",
    "            icdcodes += str(\"\".join(lines[:space+1])) + \",\" + str(\"\".join(lines[space+1:]))\n",
    "\n",
    "        with open(icdcodescsv,'w') as file:\n",
    "            for line in icd7codes:\n",
    "                file.write(line)\n",
    "\n",
    "        with open(icdcatcsv,'w') as file:\n",
    "            for line in icdcat:\n",
    "                file.write(line)\n",
    "\n",
    "        icd.close()"
   ]
  },
  {
   "cell_type": "code",
   "execution_count": 59,
   "metadata": {},
   "outputs": [],
   "source": [
    "parseicd(\"icd8.txt\")"
   ]
  },
  {
   "cell_type": "code",
   "execution_count": 60,
   "metadata": {},
   "outputs": [],
   "source": [
    "parseicd(\"icd9.txt\")"
   ]
  },
  {
   "cell_type": "code",
   "execution_count": 61,
   "metadata": {},
   "outputs": [],
   "source": [
    "parseicd(\"icd10.txt\")"
   ]
  }
 ],
 "metadata": {
  "kernelspec": {
   "display_name": "Python 3",
   "language": "python",
   "name": "python3"
  },
  "language_info": {
   "codemirror_mode": {
    "name": "ipython",
    "version": 3
   },
   "file_extension": ".py",
   "mimetype": "text/x-python",
   "name": "python",
   "nbconvert_exporter": "python",
   "pygments_lexer": "ipython3",
   "version": "3.6.7"
  }
 },
 "nbformat": 4,
 "nbformat_minor": 2
}
